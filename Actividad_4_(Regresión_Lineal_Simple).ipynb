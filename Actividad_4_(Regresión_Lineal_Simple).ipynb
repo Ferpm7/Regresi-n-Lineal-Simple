{
  "nbformat": 4,
  "nbformat_minor": 0,
  "metadata": {
    "colab": {
      "provenance": [],
      "authorship_tag": "ABX9TyP/6G+t/sz0m/Syh8fXwgzf",
      "include_colab_link": true
    },
    "kernelspec": {
      "name": "python3",
      "display_name": "Python 3"
    },
    "language_info": {
      "name": "python"
    }
  },
  "cells": [
    {
      "cell_type": "markdown",
      "metadata": {
        "id": "view-in-github",
        "colab_type": "text"
      },
      "source": [
        "<a href=\"https://colab.research.google.com/github/Ferpm7/Regresi-n-Lineal-Simple/blob/main/Actividad_4_(Regresi%C3%B3n_Lineal_Simple).ipynb\" target=\"_parent\"><img src=\"https://colab.research.google.com/assets/colab-badge.svg\" alt=\"Open In Colab\"/></a>"
      ]
    },
    {
      "cell_type": "markdown",
      "source": [
        "#Fernando Pérez Martínez - A01769688"
      ],
      "metadata": {
        "id": "4p8cTn3SsMH2"
      }
    },
    {
      "cell_type": "code",
      "execution_count": 145,
      "metadata": {
        "id": "me4Hrwf6ezSL"
      },
      "outputs": [],
      "source": [
        "import pandas as pd\n",
        "import numpy as np\n",
        "import matplotlib.pyplot as plt\n",
        "import seaborn as sns"
      ]
    },
    {
      "cell_type": "code",
      "source": [
        "df = pd.read_csv(\"DF_Mexico.csv\")\n",
        "df"
      ],
      "metadata": {
        "id": "XCKq9mzte2AV"
      },
      "execution_count": null,
      "outputs": []
    },
    {
      "cell_type": "code",
      "source": [
        "df.info()"
      ],
      "metadata": {
        "id": "qKiE5eAmfDuN"
      },
      "execution_count": null,
      "outputs": []
    },
    {
      "cell_type": "code",
      "source": [
        "num = df['calendar_updated'].value_counts()\n",
        "num"
      ],
      "metadata": {
        "id": "wNWhtBgba2cV"
      },
      "execution_count": null,
      "outputs": []
    },
    {
      "cell_type": "code",
      "source": [
        "#Se Limpian las columnas\n",
        "columns_to_drop = ['calendar_updated', 'license', 'bathrooms', 'neighbourhood_group_cleansed', 'id','host_id','host_name', 'listing_url','host_about','picture_url','host_picture_url','neighborhood_overview', 'description','host_about','scrape_id','name','host_thumbnail_url','amenities']\n",
        "df = df.drop(columns=columns_to_drop)"
      ],
      "metadata": {
        "id": "yOnKJ5mmbAsK"
      },
      "execution_count": 149,
      "outputs": []
    },
    {
      "cell_type": "code",
      "source": [
        "#Conversión de tipo para mejor manejo\n",
        "df['host_response_rate'] = df['host_response_rate'].str.replace('%', '').astype(float)"
      ],
      "metadata": {
        "id": "aag-p1E0bjaP"
      },
      "execution_count": 150,
      "outputs": []
    },
    {
      "cell_type": "code",
      "source": [
        "df['host_acceptance_rate'] = df['host_acceptance_rate'].str.replace('%', '').astype(float)"
      ],
      "metadata": {
        "id": "w5uCxXBBbk0-"
      },
      "execution_count": 8,
      "outputs": []
    },
    {
      "cell_type": "code",
      "source": [
        "df['price'] = df['price'].str.replace(',', '')"
      ],
      "metadata": {
        "id": "k2oN1H1pb04J"
      },
      "execution_count": 9,
      "outputs": []
    },
    {
      "cell_type": "code",
      "source": [
        "df['price'] = df['price'].str.replace('$', '').astype(float)"
      ],
      "metadata": {
        "id": "vpGMv5TKb4M1"
      },
      "execution_count": null,
      "outputs": []
    },
    {
      "cell_type": "code",
      "source": [
        "#Valores atipicos llenados\n",
        "columnas = ['host_acceptance_rate', 'host_response_rate']\n",
        "df[columnas] = df[columnas].fillna(0)\n",
        "df.fillna(df.mean())"
      ],
      "metadata": {
        "id": "Pziq7csxb7Wa"
      },
      "execution_count": null,
      "outputs": []
    },
    {
      "cell_type": "code",
      "source": [
        "df.fillna(method='bfill', inplace=True)"
      ],
      "metadata": {
        "id": "QYEEecdJb9kA"
      },
      "execution_count": 12,
      "outputs": []
    },
    {
      "cell_type": "code",
      "source": [
        "df.fillna(method='ffill', inplace=True)"
      ],
      "metadata": {
        "id": "A7HXRuP1cAyD"
      },
      "execution_count": 13,
      "outputs": []
    },
    {
      "cell_type": "code",
      "source": [
        "df.info()"
      ],
      "metadata": {
        "id": "Jc3NsdTqcDfI"
      },
      "execution_count": null,
      "outputs": []
    },
    {
      "cell_type": "code",
      "source": [
        "#Utilización de las variables\n",
        "room = df[[\"room_type\",'property_type']]"
      ],
      "metadata": {
        "id": "IeitpsMWcG05"
      },
      "execution_count": 15,
      "outputs": []
    },
    {
      "cell_type": "code",
      "source": [
        "#Método desviación estandar para eliminar los outliers6\n",
        "y = df\n",
        "limite_superior = y.mean() + 3*y.std()\n",
        "limite_inferior = y.mean() - 3*y.std()\n",
        "print(\"Límite superior permitido\" , limite_superior)\n",
        "print(\"\\nLímite inferior permitido\" , limite_inferior)"
      ],
      "metadata": {
        "id": "bJHhCqe6cK61"
      },
      "execution_count": null,
      "outputs": []
    },
    {
      "cell_type": "code",
      "source": [
        "#Conversion atipico-nulo\n",
        "df2 = df[(y <= limite_superior) & (y >=limite_inferior)]\n",
        "df2"
      ],
      "metadata": {
        "id": "pFqVQtuQcOES"
      },
      "execution_count": null,
      "outputs": []
    },
    {
      "cell_type": "code",
      "source": [
        "df2.info()"
      ],
      "metadata": {
        "id": "tCJU2e1rchVS"
      },
      "execution_count": null,
      "outputs": []
    },
    {
      "cell_type": "code",
      "source": [
        "df2.dropna(axis=1, how='all', inplace=True)"
      ],
      "metadata": {
        "id": "kz-49mGHckZE"
      },
      "execution_count": 19,
      "outputs": []
    },
    {
      "cell_type": "code",
      "source": [
        "df2.info()"
      ],
      "metadata": {
        "id": "lgOyM-n0clXZ"
      },
      "execution_count": null,
      "outputs": []
    },
    {
      "cell_type": "code",
      "source": [
        "#Utilización de las variables\n",
        "conservacion = [\"host_acceptance_rate\", \"host_response_rate\", \"price\", \"number_of_reviews\", \"review_scores_location\", \"review_scores_cleanliness\", \"availability_365\", \"reviews_per_month\", \"review_scores_communication\"]\n",
        "df3 = df2[conservacion]\n",
        "df3"
      ],
      "metadata": {
        "id": "oChwSjaccopF"
      },
      "execution_count": null,
      "outputs": []
    },
    {
      "cell_type": "code",
      "source": [
        "df4 = pd.concat([room, df3], axis=1)\n",
        "df4.info()"
      ],
      "metadata": {
        "id": "1CuyCCBEcsdB"
      },
      "execution_count": null,
      "outputs": []
    },
    {
      "cell_type": "code",
      "source": [
        "df4.fillna(method='ffill',inplace=True)\n",
        "df4.fillna(method='bfill',inplace=True)"
      ],
      "metadata": {
        "id": "KNfaw4lEcwlN"
      },
      "execution_count": 23,
      "outputs": []
    },
    {
      "cell_type": "code",
      "source": [
        "df4.info()"
      ],
      "metadata": {
        "id": "lhMl-4TLcxl8"
      },
      "execution_count": null,
      "outputs": []
    },
    {
      "cell_type": "code",
      "source": [
        "dfsr = df4[df4['room_type'] == 'Shared room']\n",
        "dfsr"
      ],
      "metadata": {
        "id": "0UnT8pg_c0AB"
      },
      "execution_count": null,
      "outputs": []
    },
    {
      "cell_type": "code",
      "source": [
        "from turtle import color\n",
        "sns.scatterplot(x='host_response_rate', y='host_acceptance_rate', color=\"blue\", data=dfsr)"
      ],
      "metadata": {
        "id": "Y91E3riac3n6"
      },
      "execution_count": null,
      "outputs": []
    },
    {
      "cell_type": "code",
      "source": [
        "from sklearn.linear_model import LinearRegression\n",
        "\n",
        "Vars_Indep= dfsr[['host_response_rate']]\n",
        "Var_Dep= dfsr['host_acceptance_rate']\n",
        "\n",
        "modelPR = LinearRegression()\n",
        "\n",
        "modelPR.fit(X=Vars_Indep,y=Var_Dep)\n",
        "\n",
        "\n",
        "modelPR.__dict__"
      ],
      "metadata": {
        "id": "LF67saR8c7lO"
      },
      "execution_count": null,
      "outputs": []
    },
    {
      "cell_type": "code",
      "source": [
        "y_pred= modelPR.predict(X=dfsr[['host_response_rate']])\n",
        "y_pred"
      ],
      "metadata": {
        "id": "nQwhrKrDc_II"
      },
      "execution_count": null,
      "outputs": []
    },
    {
      "cell_type": "code",
      "source": [
        "dfsr1 = dfsr.copy()"
      ],
      "metadata": {
        "id": "q5L14szTdFQl"
      },
      "execution_count": 29,
      "outputs": []
    },
    {
      "cell_type": "code",
      "source": [
        "dfsr1.insert(0, 'Predicciones', y_pred)\n",
        "dfsr1"
      ],
      "metadata": {
        "id": "Jc3XWD7odHgv"
      },
      "execution_count": null,
      "outputs": []
    },
    {
      "cell_type": "code",
      "source": [
        "sns.scatterplot(x='host_response_rate',\n",
        "                y='host_acceptance_rate',\n",
        "                color=\"blue\",\n",
        "                data=dfsr1)\n",
        "sns.scatterplot(x='host_response_rate',\n",
        "                y='Predicciones',\n",
        "                color=\"red\",\n",
        "                data=dfsr1)\n",
        "sns.lineplot(x='host_response_rate',\n",
        "             y='Predicciones',\n",
        "             color=\"red\",\n",
        "             data=dfsr1)"
      ],
      "metadata": {
        "id": "CkVpSJuLdK2A"
      },
      "execution_count": null,
      "outputs": []
    },
    {
      "cell_type": "code",
      "source": [
        "#Corroboramos cual es el coeficiente de Determinación de nuestro modelo\n",
        "cd01=modelPR.score(X=Vars_Indep, y=Var_Dep)\n",
        "cd01"
      ],
      "metadata": {
        "id": "TImbFAWsdMML"
      },
      "execution_count": null,
      "outputs": []
    },
    {
      "cell_type": "code",
      "source": [
        "#Corroboramos cual es el coeficiente de Correlación de nuestro modelo\n",
        "cc01=np.sqrt(cd01)\n",
        "cc01"
      ],
      "metadata": {
        "id": "b0PPVuOZdO55"
      },
      "execution_count": null,
      "outputs": []
    },
    {
      "cell_type": "code",
      "source": [
        "from turtle import color\n",
        "sns.scatterplot(x='price', y='host_response_rate', color=\"green\", data=dfsr)"
      ],
      "metadata": {
        "id": "_EV0ci2kdSAF"
      },
      "execution_count": null,
      "outputs": []
    },
    {
      "cell_type": "code",
      "source": [
        "from sklearn.linear_model import LinearRegression\n",
        "\n",
        "Vars_Indep= dfsr[['price']]\n",
        "Var_Dep= dfsr['host_acceptance_rate']\n",
        "\n",
        "\n",
        "model = LinearRegression()\n",
        "\n",
        "model.fit(X=Vars_Indep,y=Var_Dep)\n",
        "\n",
        "\n",
        "model.__dict__"
      ],
      "metadata": {
        "id": "sRZCdkqfdVba"
      },
      "execution_count": null,
      "outputs": []
    },
    {
      "cell_type": "code",
      "source": [
        "y_pred= model.predict(X=dfsr[['price']])\n",
        "y_pred"
      ],
      "metadata": {
        "id": "y57455iXdajr"
      },
      "execution_count": null,
      "outputs": []
    },
    {
      "cell_type": "code",
      "source": [
        "dfsr2 = dfsr.copy()"
      ],
      "metadata": {
        "id": "Fh-h23uJdeNF"
      },
      "execution_count": 37,
      "outputs": []
    },
    {
      "cell_type": "code",
      "source": [
        "#Insertamos la columna de predicciones en el DataFrame\n",
        "dfsr2.insert(0, 'Predicciones', y_pred)\n",
        "dfsr2"
      ],
      "metadata": {
        "id": "j8B7QjPbdhie"
      },
      "execution_count": null,
      "outputs": []
    },
    {
      "cell_type": "code",
      "source": [
        "#Visualizamos la gráfica comparativa entre el total real y el total predecido\n",
        "\n",
        "sns.scatterplot(x='price',\n",
        "                y='host_acceptance_rate',\n",
        "                color=\"blue\",\n",
        "                data=dfsr2)\n",
        "sns.scatterplot(x='price',\n",
        "                y='Predicciones',\n",
        "                color=\"red\",\n",
        "                data=dfsr2)\n",
        "sns.lineplot(x='price',\n",
        "             y='Predicciones',\n",
        "             color=\"red\",\n",
        "             data=dfsr2)"
      ],
      "metadata": {
        "id": "jzf4IX9UdkaR"
      },
      "execution_count": null,
      "outputs": []
    },
    {
      "cell_type": "code",
      "source": [
        "#Corroboramos cual es el coeficiente de Determinación de nuestro modelo\n",
        "cd02=model.score(X=Vars_Indep, y=Var_Dep)\n",
        "cd02"
      ],
      "metadata": {
        "colab": {
          "base_uri": "https://localhost:8080/"
        },
        "id": "texndao-doOe",
        "outputId": "ab2a20bb-dd68-478e-ee4c-1c85f77447d7"
      },
      "execution_count": 40,
      "outputs": [
        {
          "output_type": "execute_result",
          "data": {
            "text/plain": [
              "0.09681294340769875"
            ]
          },
          "metadata": {},
          "execution_count": 40
        }
      ]
    },
    {
      "cell_type": "code",
      "source": [
        "#Corroboramos cual es el coeficiente de Correlación de nuestro modelo\n",
        "cc02=np.sqrt(cd02)\n",
        "cc02"
      ],
      "metadata": {
        "id": "_dP_NAModsFv"
      },
      "execution_count": null,
      "outputs": []
    },
    {
      "cell_type": "code",
      "source": [
        "from turtle import color\n",
        "sns.scatterplot(x='number_of_reviews', y='host_acceptance_rate', color=\"pink\", data=dfsr)"
      ],
      "metadata": {
        "id": "4CTAa0LydtDH"
      },
      "execution_count": null,
      "outputs": []
    },
    {
      "cell_type": "code",
      "source": [
        "from sklearn.linear_model import LinearRegression\n",
        "\n",
        "Vars_Indep= dfsr[['number_of_reviews']]\n",
        "Var_Dep= dfsr['host_acceptance_rate']\n",
        "\n",
        "modelPR = LinearRegression()\n",
        "\n",
        "modelPR.fit(X=Vars_Indep,y=Var_Dep)\n",
        "\n",
        "\n",
        "modelPR.__dict__"
      ],
      "metadata": {
        "id": "wh6NRb8fdwAi"
      },
      "execution_count": null,
      "outputs": []
    },
    {
      "cell_type": "code",
      "source": [
        "y_pred= modelPR.predict(X=dfsr[['number_of_reviews']])\n",
        "y_pred"
      ],
      "metadata": {
        "id": "wLwrbGDid0hy"
      },
      "execution_count": null,
      "outputs": []
    },
    {
      "cell_type": "code",
      "source": [
        "dfsr3 = dfsr.copy()"
      ],
      "metadata": {
        "id": "ICFVH_Bsd38h"
      },
      "execution_count": 45,
      "outputs": []
    },
    {
      "cell_type": "code",
      "source": [
        "#Insertamos la columna de predicciones en el DataFrame\n",
        "dfsr3.insert(0, 'Predicciones', y_pred)\n",
        "dfsr3"
      ],
      "metadata": {
        "id": "9hi6dzJ8d8bQ"
      },
      "execution_count": null,
      "outputs": []
    },
    {
      "cell_type": "code",
      "source": [
        "#Visualizamos la gráfica comparativa entre el total real y el total predecido\n",
        "\n",
        "sns.scatterplot(x='number_of_reviews',\n",
        "                y='host_acceptance_rate',\n",
        "                color=\"blue\",\n",
        "                data=dfsr3)\n",
        "sns.scatterplot(x='number_of_reviews',\n",
        "                y='Predicciones',\n",
        "                color=\"red\",\n",
        "                data=dfsr3)\n",
        "sns.lineplot(x='number_of_reviews',\n",
        "             y='Predicciones',\n",
        "             color=\"red\",\n",
        "             data=dfsr3)"
      ],
      "metadata": {
        "id": "kGiypUtPeADe"
      },
      "execution_count": null,
      "outputs": []
    },
    {
      "cell_type": "code",
      "source": [
        "#Corroboramos cual es el coeficiente de Determinación de nuestro modelo\n",
        "cd03=modelPR.score(X=Vars_Indep, y=Var_Dep)\n",
        "cd03"
      ],
      "metadata": {
        "id": "BcelTsCGeDcH"
      },
      "execution_count": null,
      "outputs": []
    },
    {
      "cell_type": "code",
      "source": [
        "#Corroboramos cual es el coeficiente de Correlación de nuestro modelo\n",
        "cc03=np.sqrt(cd03)\n",
        "cc03"
      ],
      "metadata": {
        "id": "NVFBxzfMeF7d"
      },
      "execution_count": null,
      "outputs": []
    },
    {
      "cell_type": "code",
      "source": [
        "from turtle import color\n",
        "sns.scatterplot(x='review_scores_cleanliness', y='review_scores_location', color=\"red\", data=dfsr)"
      ],
      "metadata": {
        "id": "7him56NGeIUA"
      },
      "execution_count": null,
      "outputs": []
    },
    {
      "cell_type": "code",
      "source": [
        "from sklearn.linear_model import LinearRegression\n",
        "\n",
        "Vars_Indep= dfsr[['review_scores_cleanliness']]\n",
        "Var_Dep= dfsr['review_scores_location']\n",
        "\n",
        "modelPR = LinearRegression()\n",
        "\n",
        "modelPR.fit(X=Vars_Indep,y=Var_Dep)\n",
        "\n",
        "\n",
        "modelPR.__dict__"
      ],
      "metadata": {
        "id": "Uz-S5bs1eLHK"
      },
      "execution_count": null,
      "outputs": []
    },
    {
      "cell_type": "code",
      "source": [
        "y_pred= modelPR.predict(X=dfsr[['review_scores_cleanliness']])\n",
        "y_pred"
      ],
      "metadata": {
        "id": "qG7oTGxgeOV2"
      },
      "execution_count": null,
      "outputs": []
    },
    {
      "cell_type": "code",
      "source": [
        "dfsr4 = dfsr.copy()"
      ],
      "metadata": {
        "id": "199jXmUJeRWT"
      },
      "execution_count": 53,
      "outputs": []
    },
    {
      "cell_type": "code",
      "source": [
        "#Insertamos la columna de predicciones en el DataFrame\n",
        "dfsr4.insert(0, 'Predicciones', y_pred)\n",
        "dfsr4"
      ],
      "metadata": {
        "id": "D1xVsBvJeUZi"
      },
      "execution_count": null,
      "outputs": []
    },
    {
      "cell_type": "code",
      "source": [
        "#Visualizamos la gráfica comparativa entre el total real y el total predecido\n",
        "\n",
        "sns.scatterplot(x='review_scores_cleanliness',\n",
        "                y='review_scores_location',\n",
        "                color=\"blue\",\n",
        "                data=dfsr4)\n",
        "sns.scatterplot(x='review_scores_cleanliness',\n",
        "                y='Predicciones',\n",
        "                color=\"red\",\n",
        "                data=dfsr4)\n",
        "sns.lineplot(x='review_scores_cleanliness',\n",
        "             y='Predicciones',\n",
        "             color=\"red\",\n",
        "             data=dfsr4)"
      ],
      "metadata": {
        "id": "HyW_UA9ReXPN"
      },
      "execution_count": null,
      "outputs": []
    },
    {
      "cell_type": "code",
      "source": [
        "#Corroboramos cual es el coeficiente de Determinación de nuestro modelo\n",
        "cd04=modelPR.score(X=Vars_Indep, y=Var_Dep)\n",
        "cd04"
      ],
      "metadata": {
        "id": "nT11jVPLeanF"
      },
      "execution_count": null,
      "outputs": []
    },
    {
      "cell_type": "code",
      "source": [
        "#Corroboramos cual es el coeficiente de Correlación de nuestro modelo\n",
        "cc04=np.sqrt(cd04)\n",
        "cc04"
      ],
      "metadata": {
        "id": "9SwzW6g6edaJ"
      },
      "execution_count": null,
      "outputs": []
    },
    {
      "cell_type": "code",
      "source": [
        "from turtle import color\n",
        "sns.scatterplot(x='number_of_reviews', y='availability_365', color=\"cyan\", data=dfsr)"
      ],
      "metadata": {
        "id": "oVK5x7TgegFY"
      },
      "execution_count": null,
      "outputs": []
    },
    {
      "cell_type": "code",
      "source": [
        "from sklearn.linear_model import LinearRegression\n",
        "\n",
        "Vars_Indep= dfsr[['number_of_reviews']]\n",
        "Var_Dep= dfsr['availability_365']\n",
        "\n",
        "modelPR = LinearRegression()\n",
        "\n",
        "modelPR.fit(X=Vars_Indep,y=Var_Dep)\n",
        "\n",
        "modelPR.__dict__"
      ],
      "metadata": {
        "id": "hhNpVTWzei_e"
      },
      "execution_count": null,
      "outputs": []
    },
    {
      "cell_type": "code",
      "source": [
        "y_pred= modelPR.predict(X=dfsr[['number_of_reviews']])\n",
        "y_pred"
      ],
      "metadata": {
        "id": "AQJlHtXtetv0"
      },
      "execution_count": null,
      "outputs": []
    },
    {
      "cell_type": "code",
      "source": [
        "dfsr5 = dfsr.copy()"
      ],
      "metadata": {
        "id": "Pg1ngyWlewde"
      },
      "execution_count": 61,
      "outputs": []
    },
    {
      "cell_type": "code",
      "source": [
        "#Insertamos la columna de predicciones en el DataFrame\n",
        "dfsr5.insert(0, 'Predicciones', y_pred)\n",
        "dfsr5"
      ],
      "metadata": {
        "id": "HAZ_3aw3eyvZ"
      },
      "execution_count": null,
      "outputs": []
    },
    {
      "cell_type": "code",
      "source": [
        "#Visualizamos la gráfica comparativa entre el total real y el total predecido\n",
        "\n",
        "sns.scatterplot(x='number_of_reviews',\n",
        "                y='availability_365',\n",
        "                color=\"blue\",\n",
        "                data=dfsr5)\n",
        "sns.scatterplot(x='number_of_reviews',\n",
        "                y='Predicciones',\n",
        "                color=\"red\",\n",
        "                data=dfsr5)\n",
        "sns.lineplot(x='number_of_reviews',\n",
        "             y='Predicciones',\n",
        "             color=\"red\",\n",
        "             data=dfsr5)"
      ],
      "metadata": {
        "id": "rlJxVF5Se19N"
      },
      "execution_count": null,
      "outputs": []
    },
    {
      "cell_type": "code",
      "source": [
        "#Corroboramos cual es el coeficiente de Determinación de nuestro modelo\n",
        "cd05=modelPR.score(X=Vars_Indep, y=Var_Dep)\n",
        "cd05\n",
        "\n"
      ],
      "metadata": {
        "id": "R7N3qfzHe5w3"
      },
      "execution_count": null,
      "outputs": []
    },
    {
      "cell_type": "code",
      "source": [
        "#Corroboramos cual es el coeficiente de Correlación de nuestro modelo\n",
        "cc05=np.sqrt(cd05)\n",
        "cc05"
      ],
      "metadata": {
        "id": "VvrRDFL7fDm3"
      },
      "execution_count": null,
      "outputs": []
    },
    {
      "cell_type": "code",
      "source": [
        "from turtle import color\n",
        "sns.scatterplot(x='review_scores_communication', y='reviews_per_month', color=\"brown\", data=dfsr)"
      ],
      "metadata": {
        "id": "00mxD-0UfGt7"
      },
      "execution_count": null,
      "outputs": []
    },
    {
      "cell_type": "code",
      "source": [
        "from sklearn.linear_model import LinearRegression\n",
        "\n",
        "Vars_Indep= dfsr[['review_scores_communication']]\n",
        "Var_Dep= dfsr['reviews_per_month']\n",
        "\n",
        "modelPR = LinearRegression()\n",
        "\n",
        "modelPR.fit(X=Vars_Indep,y=Var_Dep)\n",
        "\n",
        "modelPR.__dict__"
      ],
      "metadata": {
        "id": "7z6bwGqbfJ75"
      },
      "execution_count": null,
      "outputs": []
    },
    {
      "cell_type": "code",
      "source": [
        "y_pred= modelPR.predict(X=dfsr[['review_scores_communication']])\n",
        "y_pred"
      ],
      "metadata": {
        "id": "nldGc-0DfNLm"
      },
      "execution_count": null,
      "outputs": []
    },
    {
      "cell_type": "code",
      "source": [
        "dfsr6 = dfsr.copy()"
      ],
      "metadata": {
        "id": "JT4olbTbfSq3"
      },
      "execution_count": 71,
      "outputs": []
    },
    {
      "cell_type": "code",
      "source": [
        "#Insertamos la columna de predicciones en el DataFrame\n",
        "dfsr6.insert(0, 'Predicciones', y_pred)\n",
        "dfsr6"
      ],
      "metadata": {
        "id": "437EIoahgSSx"
      },
      "execution_count": null,
      "outputs": []
    },
    {
      "cell_type": "code",
      "source": [
        "#Visualizamos la gráfica comparativa entre el total real y el total predecido\n",
        "\n",
        "sns.scatterplot(x='review_scores_communication',\n",
        "                y='reviews_per_month',\n",
        "                color=\"blue\",\n",
        "                data=dfsr6)\n",
        "sns.scatterplot(x='review_scores_communication',\n",
        "                y='Predicciones',\n",
        "                color=\"red\",\n",
        "                data=dfsr6)\n",
        "sns.lineplot(x='review_scores_communication',\n",
        "             y='Predicciones',\n",
        "             color=\"red\",\n",
        "             data=dfsr6)"
      ],
      "metadata": {
        "id": "GaFx8lyCgT1X"
      },
      "execution_count": null,
      "outputs": []
    },
    {
      "cell_type": "code",
      "source": [
        "#Corroboramos cual es el coeficiente de Determinación de nuestro modelo\n",
        "cd06=modelPR.score(X=Vars_Indep, y=Var_Dep)\n",
        "cd06"
      ],
      "metadata": {
        "id": "H3pNzcn0gYRi"
      },
      "execution_count": null,
      "outputs": []
    },
    {
      "cell_type": "code",
      "source": [
        "#Corroboramos cual es el coeficiente de Correlación de nuestro modelo\n",
        "cc06=np.sqrt(cd06)\n",
        "cc06"
      ],
      "metadata": {
        "id": "jxGHguHQgbn_"
      },
      "execution_count": null,
      "outputs": []
    },
    {
      "cell_type": "markdown",
      "source": [
        "#PRIVATE ROOM"
      ],
      "metadata": {
        "id": "ihTDSn8Egh1h"
      }
    },
    {
      "cell_type": "code",
      "source": [
        "dfpr = df4[df4['room_type'] == 'Private room']\n",
        "dfpr"
      ],
      "metadata": {
        "id": "V7oxmUtDgdm5"
      },
      "execution_count": null,
      "outputs": []
    },
    {
      "cell_type": "code",
      "source": [
        "from turtle import color\n",
        "sns.scatterplot(x='host_response_rate', y='host_acceptance_rate', color=\"blue\", data=dfpr)"
      ],
      "metadata": {
        "colab": {
          "base_uri": "https://localhost:8080/",
          "height": 467
        },
        "id": "dbRW8KemgwyZ",
        "outputId": "6654dd05-ffa2-4364-d7ad-706540da6fd2"
      },
      "execution_count": 77,
      "outputs": [
        {
          "output_type": "execute_result",
          "data": {
            "text/plain": [
              "<Axes: xlabel='host_response_rate', ylabel='host_acceptance_rate'>"
            ]
          },
          "metadata": {},
          "execution_count": 77
        },
        {
          "output_type": "display_data",
          "data": {
            "text/plain": [
              "<Figure size 640x480 with 1 Axes>"
            ],
            "image/png": "[encoded data removed]"
          },
          "metadata": {}
        }
      ]
    },
    {
      "cell_type": "code",
      "source": [
        "Vars_Indep= dfpr[['host_response_rate']]\n",
        "Var_Dep= dfpr['host_acceptance_rate']\n",
        "\n",
        "from sklearn.linear_model import LinearRegression\n",
        "model= LinearRegression()\n",
        "model.fit(X=Vars_Indep, y=Var_Dep)\n",
        "\n",
        "model.__dict__"
      ],
      "metadata": {
        "id": "1Zgn2jMLg0hD"
      },
      "execution_count": null,
      "outputs": []
    },
    {
      "cell_type": "code",
      "source": [
        "y_pred= model.predict(X=dfpr[['host_response_rate']])\n",
        "y_pred"
      ],
      "metadata": {
        "id": "luVjRj0Zg3dF"
      },
      "execution_count": null,
      "outputs": []
    },
    {
      "cell_type": "code",
      "source": [
        "dfpr1 = dfpr.copy()"
      ],
      "metadata": {
        "id": "RrFq3EAOg6ps"
      },
      "execution_count": 80,
      "outputs": []
    },
    {
      "cell_type": "code",
      "source": [
        "dfpr1.insert(0, 'Predicciones', y_pred)\n",
        "dfpr1"
      ],
      "metadata": {
        "id": "vcAbN9Pfg8zl"
      },
      "execution_count": null,
      "outputs": []
    },
    {
      "cell_type": "code",
      "source": [
        "sns.scatterplot(x='host_response_rate',\n",
        "                y='host_acceptance_rate',\n",
        "                color=\"blue\",\n",
        "                data=dfpr1)\n",
        "sns.scatterplot(x='host_response_rate',\n",
        "                y='Predicciones',\n",
        "                color=\"red\",\n",
        "                data=dfpr1)\n",
        "sns.lineplot(x='host_response_rate',\n",
        "             y='Predicciones',\n",
        "             color=\"red\",\n",
        "             data=dfpr1)"
      ],
      "metadata": {
        "id": "1qzXoRJ1g_Wk"
      },
      "execution_count": null,
      "outputs": []
    },
    {
      "cell_type": "code",
      "source": [
        "#Corroboramos cual es el coeficiente de Determinación de nuestro modelo\n",
        "cd07=model.score(X=Vars_Indep, y=Var_Dep)\n",
        "cd07"
      ],
      "metadata": {
        "id": "CLDAnnGchDBj"
      },
      "execution_count": null,
      "outputs": []
    },
    {
      "cell_type": "code",
      "source": [
        "#Corroboramos cual es el coeficiente de Correlación de nuestro modelo\n",
        "cc07=np.sqrt(cd07)\n",
        "cc07"
      ],
      "metadata": {
        "id": "apPuhNB0hFuv"
      },
      "execution_count": null,
      "outputs": []
    },
    {
      "cell_type": "code",
      "source": [
        "from turtle import color\n",
        "sns.scatterplot(x='price', y='host_response_rate', color=\"green\", data=dfpr)"
      ],
      "metadata": {
        "id": "zaGi7mT0hIaO"
      },
      "execution_count": null,
      "outputs": []
    },
    {
      "cell_type": "code",
      "source": [
        "Vars_Indep= dfpr[['price']]\n",
        "Var_Dep= dfpr['host_acceptance_rate']\n",
        "\n",
        "from sklearn.linear_model import LinearRegression\n",
        "model= LinearRegression()\n",
        "model.fit(X=Vars_Indep, y=Var_Dep)\n",
        "\n",
        "model.__dict__"
      ],
      "metadata": {
        "id": "YVSqjg5whLlK"
      },
      "execution_count": null,
      "outputs": []
    },
    {
      "cell_type": "code",
      "source": [
        "y_pred= model.predict(X=dfpr[['price']])\n",
        "y_pred"
      ],
      "metadata": {
        "id": "62MUo0EChOC9"
      },
      "execution_count": null,
      "outputs": []
    },
    {
      "cell_type": "code",
      "source": [
        "dfpr2 = dfpr.copy()"
      ],
      "metadata": {
        "id": "bX6jZw9ohRLv"
      },
      "execution_count": 88,
      "outputs": []
    },
    {
      "cell_type": "code",
      "source": [
        "#Insertamos la columna de predicciones en el DataFrame\n",
        "dfpr2.insert(0, 'Predicciones', y_pred)\n",
        "dfpr2"
      ],
      "metadata": {
        "id": "-pgdr9DRhTVU"
      },
      "execution_count": null,
      "outputs": []
    },
    {
      "cell_type": "code",
      "source": [
        "#Visualizamos la gráfica comparativa entre el total real y el total predecido\n",
        "\n",
        "sns.scatterplot(x='price',\n",
        "                y='host_acceptance_rate',\n",
        "                color=\"blue\",\n",
        "                data=dfpr2)\n",
        "sns.scatterplot(x='price',\n",
        "                y='Predicciones',\n",
        "                color=\"red\",\n",
        "                data=dfpr2)\n",
        "sns.lineplot(x='price',\n",
        "             y='Predicciones',\n",
        "             color=\"red\",\n",
        "             data=dfpr2)"
      ],
      "metadata": {
        "id": "CwniupvshWBt"
      },
      "execution_count": null,
      "outputs": []
    },
    {
      "cell_type": "code",
      "source": [
        "#Corroboramos cual es el coeficiente de Determinación de nuestro modelo\n",
        "cd08=model.score(X=Vars_Indep, y=Var_Dep)\n",
        "cd08"
      ],
      "metadata": {
        "id": "hCIY9dKjhcQf"
      },
      "execution_count": null,
      "outputs": []
    },
    {
      "cell_type": "code",
      "source": [
        "#Corroboramos cual es el coeficiente de Correlación de nuestro modelo\n",
        "cc08=np.sqrt(cd08)\n",
        "cc08"
      ],
      "metadata": {
        "id": "WSEHZxJyhe6b"
      },
      "execution_count": null,
      "outputs": []
    },
    {
      "cell_type": "code",
      "source": [
        "from turtle import color\n",
        "sns.scatterplot(x='number_of_reviews', y='host_acceptance_rate', color=\"pink\", data=dfpr)"
      ],
      "metadata": {
        "id": "AAP8qQmQhhG5"
      },
      "execution_count": null,
      "outputs": []
    },
    {
      "cell_type": "code",
      "source": [
        "Vars_Indep= dfpr[['number_of_reviews']]\n",
        "Var_Dep= dfpr['host_acceptance_rate']\n",
        "\n",
        "from sklearn.linear_model import LinearRegression\n",
        "model= LinearRegression()\n",
        "model.fit(X=Vars_Indep, y=Var_Dep)\n",
        "\n",
        "model.__dict__"
      ],
      "metadata": {
        "id": "vSUh2WYihjzH"
      },
      "execution_count": null,
      "outputs": []
    },
    {
      "cell_type": "code",
      "source": [
        "y_pred= model.predict(X=dfpr[['number_of_reviews']])\n",
        "y_pred"
      ],
      "metadata": {
        "id": "OTPw14rkhmU7"
      },
      "execution_count": null,
      "outputs": []
    },
    {
      "cell_type": "code",
      "source": [
        "dfpr3 = dfpr.copy()"
      ],
      "metadata": {
        "id": "wy1_8dyMhoe2"
      },
      "execution_count": 96,
      "outputs": []
    },
    {
      "cell_type": "code",
      "source": [
        "#Insertamos la columna de predicciones en el DataFrame\n",
        "dfpr3.insert(0, 'Predicciones', y_pred)\n",
        "dfpr3"
      ],
      "metadata": {
        "id": "lfHFm-2ghqa2"
      },
      "execution_count": null,
      "outputs": []
    },
    {
      "cell_type": "code",
      "source": [
        "#Visualizamos la gráfica comparativa entre el total real y el total predecido\n",
        "\n",
        "sns.scatterplot(x='number_of_reviews',\n",
        "                y='host_acceptance_rate',\n",
        "                color=\"blue\",\n",
        "                data=dfpr3)\n",
        "sns.scatterplot(x='number_of_reviews',\n",
        "                y='Predicciones',\n",
        "                color=\"red\",\n",
        "                data=dfpr3)\n",
        "sns.lineplot(x='number_of_reviews',\n",
        "             y='Predicciones',\n",
        "             color=\"red\",\n",
        "             data=dfpr3)"
      ],
      "metadata": {
        "id": "h5HgE41vhtCR"
      },
      "execution_count": null,
      "outputs": []
    },
    {
      "cell_type": "code",
      "source": [
        "#Corroboramos cual es el coeficiente de Determinación de nuestro modelo\n",
        "cd09=model.score(X=Vars_Indep, y=Var_Dep)\n",
        "cd09"
      ],
      "metadata": {
        "id": "MNsLY9aQhxMO"
      },
      "execution_count": null,
      "outputs": []
    },
    {
      "cell_type": "code",
      "source": [
        "#Corroboramos cual es el coeficiente de Correlación de nuestro modelo\n",
        "cc09=np.sqrt(cd09)\n",
        "cc09"
      ],
      "metadata": {
        "id": "MKxy5ce6h0U1"
      },
      "execution_count": null,
      "outputs": []
    },
    {
      "cell_type": "code",
      "source": [
        "from turtle import color\n",
        "sns.scatterplot(x='review_scores_cleanliness', y='review_scores_location', color=\"red\", data=dfpr)"
      ],
      "metadata": {
        "id": "9mHyQJmWh2Pi"
      },
      "execution_count": null,
      "outputs": []
    },
    {
      "cell_type": "code",
      "source": [
        "Vars_Indep= dfpr[['review_scores_cleanliness']]\n",
        "Var_Dep= dfpr['review_scores_location']\n",
        "\n",
        "from sklearn.linear_model import LinearRegression\n",
        "model= LinearRegression()\n",
        "model.fit(X=Vars_Indep, y=Var_Dep)\n",
        "\n",
        "model.__dict__"
      ],
      "metadata": {
        "id": "Z-BuetuYh4_H"
      },
      "execution_count": null,
      "outputs": []
    },
    {
      "cell_type": "code",
      "source": [
        "y_pred= model.predict(X=dfpr[['review_scores_cleanliness']])\n",
        "y_pred"
      ],
      "metadata": {
        "id": "6uxUPqS8h7Wd"
      },
      "execution_count": null,
      "outputs": []
    },
    {
      "cell_type": "code",
      "source": [
        "dfpr4 = dfpr.copy()"
      ],
      "metadata": {
        "id": "EJ5gDvvIh9wR"
      },
      "execution_count": 104,
      "outputs": []
    },
    {
      "cell_type": "code",
      "source": [
        "#Insertamos la columna de predicciones en el DataFrame\n",
        "dfpr4.insert(0, 'Predicciones', y_pred)\n",
        "dfpr4"
      ],
      "metadata": {
        "id": "-C4JhVa-h_y-"
      },
      "execution_count": null,
      "outputs": []
    },
    {
      "cell_type": "code",
      "source": [
        "#Visualizamos la gráfica comparativa entre el total real y el total predecido\n",
        "\n",
        "sns.scatterplot(x='review_scores_cleanliness',\n",
        "                y='review_scores_location',\n",
        "                color=\"blue\",\n",
        "                data=dfpr4)\n",
        "sns.scatterplot(x='review_scores_cleanliness',\n",
        "                y='Predicciones',\n",
        "                color=\"red\",\n",
        "                data=dfpr4)\n",
        "sns.lineplot(x='review_scores_cleanliness',\n",
        "             y='Predicciones',\n",
        "             color=\"red\",\n",
        "             data=dfpr4)"
      ],
      "metadata": {
        "id": "aiWFnO5WiDHb"
      },
      "execution_count": null,
      "outputs": []
    },
    {
      "cell_type": "code",
      "source": [
        "#Corroboramos cual es el coeficiente de Determinación de nuestro modelo\n",
        "cd10=model.score(X=Vars_Indep, y=Var_Dep)\n",
        "cd10"
      ],
      "metadata": {
        "id": "zN0RFC7BiHNn"
      },
      "execution_count": null,
      "outputs": []
    },
    {
      "cell_type": "code",
      "source": [
        "#Corroboramos cual es el coeficiente de Correlación de nuestro modelo\n",
        "cc10=np.sqrt(cd10)\n",
        "cc10"
      ],
      "metadata": {
        "id": "NO-x5FuOiJ2L"
      },
      "execution_count": null,
      "outputs": []
    },
    {
      "cell_type": "code",
      "source": [
        "from turtle import color\n",
        "sns.scatterplot(x='number_of_reviews', y='availability_365', color=\"cyan\", data=dfpr)"
      ],
      "metadata": {
        "id": "fjp68pWKiOBT"
      },
      "execution_count": null,
      "outputs": []
    },
    {
      "cell_type": "code",
      "source": [
        "Vars_Indep= dfpr[['number_of_reviews']]\n",
        "Var_Dep= dfpr['availability_365']\n",
        "\n",
        "from sklearn.linear_model import LinearRegression\n",
        "model= LinearRegression()\n",
        "model.fit(X=Vars_Indep, y=Var_Dep)\n",
        "\n",
        "model.__dict__"
      ],
      "metadata": {
        "id": "iYEA4WwoiQB6"
      },
      "execution_count": null,
      "outputs": []
    },
    {
      "cell_type": "code",
      "source": [
        "y_pred= model.predict(X=dfpr[['number_of_reviews']])\n",
        "y_pred"
      ],
      "metadata": {
        "id": "joHbCOtNiS9U"
      },
      "execution_count": null,
      "outputs": []
    },
    {
      "cell_type": "code",
      "source": [
        "dfpr5 = dfpr.copy()"
      ],
      "metadata": {
        "id": "CNxpeAiCiXXA"
      },
      "execution_count": 112,
      "outputs": []
    },
    {
      "cell_type": "code",
      "source": [
        "#Insertamos la columna de predicciones en el DataFrame\n",
        "dfpr5.insert(0, 'Predicciones', y_pred)\n",
        "dfpr5"
      ],
      "metadata": {
        "id": "t0ecKKyPiYh_"
      },
      "execution_count": null,
      "outputs": []
    },
    {
      "cell_type": "code",
      "source": [
        "#Visualizamos la gráfica comparativa entre el total real y el total predecido\n",
        "\n",
        "sns.scatterplot(x='number_of_reviews',\n",
        "                y='availability_365',\n",
        "                color=\"blue\",\n",
        "                data=dfpr5)\n",
        "sns.scatterplot(x='number_of_reviews',\n",
        "                y='Predicciones',\n",
        "                color=\"red\",\n",
        "                data=dfpr5)\n",
        "sns.lineplot(x='number_of_reviews',\n",
        "             y='Predicciones',\n",
        "             color=\"red\",\n",
        "             data=dfpr5)"
      ],
      "metadata": {
        "id": "StGVIlqZibIH"
      },
      "execution_count": null,
      "outputs": []
    },
    {
      "cell_type": "code",
      "source": [
        "#Corroboramos cual es el coeficiente de Determinación de nuestro modelo\n",
        "cd11=model.score(X=Vars_Indep, y=Var_Dep)\n",
        "cd11"
      ],
      "metadata": {
        "id": "B8DR5iYJifXo"
      },
      "execution_count": null,
      "outputs": []
    },
    {
      "cell_type": "code",
      "source": [
        "#Corroboramos cual es el coeficiente de Correlación de nuestro modelo\n",
        "cc11=np.sqrt(cd11)\n",
        "cc11"
      ],
      "metadata": {
        "id": "dWfQkzR1ih6A"
      },
      "execution_count": null,
      "outputs": []
    },
    {
      "cell_type": "code",
      "source": [
        "from turtle import color\n",
        "sns.scatterplot(x='review_scores_communication', y='reviews_per_month', color=\"brown\", data=dfpr)"
      ],
      "metadata": {
        "id": "iq07JcTKij-7"
      },
      "execution_count": null,
      "outputs": []
    },
    {
      "cell_type": "code",
      "source": [
        "Vars_Indep= dfpr[['review_scores_communication']]\n",
        "Var_Dep= dfpr['reviews_per_month']\n",
        "\n",
        "from sklearn.linear_model import LinearRegression\n",
        "model= LinearRegression()\n",
        "model.fit(X=Vars_Indep, y=Var_Dep)\n",
        "\n",
        "model.__dict__"
      ],
      "metadata": {
        "colab": {
          "base_uri": "https://localhost:8080/"
        },
        "id": "QrCp5aS4im_m",
        "outputId": "534ebbf1-b31a-4c48-aa49-191f9bdd9e06"
      },
      "execution_count": 118,
      "outputs": [
        {
          "output_type": "execute_result",
          "data": {
            "text/plain": [
              "{'fit_intercept': True,\n",
              " 'copy_X': True,\n",
              " 'n_jobs': None,\n",
              " 'positive': False,\n",
              " 'feature_names_in_': array(['review_scores_communication'], dtype=object),\n",
              " 'n_features_in_': 1,\n",
              " 'coef_': array([-0.24830514]),\n",
              " 'rank_': 1,\n",
              " 'singular_': array([20.90109595]),\n",
              " 'intercept_': 2.4680990982285946}"
            ]
          },
          "metadata": {},
          "execution_count": 118
        }
      ]
    },
    {
      "cell_type": "code",
      "source": [
        "y_pred= model.predict(X=dfpr[['review_scores_communication']])\n",
        "y_pred"
      ],
      "metadata": {
        "id": "hldhSviIipd6"
      },
      "execution_count": null,
      "outputs": []
    },
    {
      "cell_type": "code",
      "source": [
        "dfpr6 = dfpr.copy()"
      ],
      "metadata": {
        "id": "HtAarn8tisDJ"
      },
      "execution_count": 120,
      "outputs": []
    },
    {
      "cell_type": "code",
      "source": [
        "#Insertamos la columna de predicciones en el DataFrame\n",
        "dfpr6.insert(0, 'Predicciones', y_pred)\n",
        "dfpr6"
      ],
      "metadata": {
        "id": "b5GJh7T4iwHF"
      },
      "execution_count": null,
      "outputs": []
    },
    {
      "cell_type": "code",
      "source": [
        "#Visualizamos la gráfica comparativa entre el total real y el total predecido\n",
        "\n",
        "sns.scatterplot(x='review_scores_communication',\n",
        "                y='reviews_per_month',\n",
        "                color=\"blue\",\n",
        "                data=dfpr6)\n",
        "sns.scatterplot(x='review_scores_communication',\n",
        "                y='Predicciones',\n",
        "                color=\"red\",\n",
        "                data=dfpr6)\n",
        "sns.lineplot(x='review_scores_communication',\n",
        "             y='Predicciones',\n",
        "             color=\"red\",\n",
        "             data=dfpr6)"
      ],
      "metadata": {
        "id": "DxQlrwwSixm-"
      },
      "execution_count": null,
      "outputs": []
    },
    {
      "cell_type": "code",
      "source": [
        "#Corroboramos cual es el coeficiente de Determinación de nuestro modelo\n",
        "cd12=model.score(X=Vars_Indep, y=Var_Dep)\n",
        "cd12"
      ],
      "metadata": {
        "id": "AHMK6awWi2p9"
      },
      "execution_count": null,
      "outputs": []
    },
    {
      "cell_type": "code",
      "source": [
        "#Corroboramos cual es el coeficiente de Correlación de nuestro modelo\n",
        "cc12=np.sqrt(cd12)\n",
        "cc12"
      ],
      "metadata": {
        "id": "on_uEorKi4_Z"
      },
      "execution_count": null,
      "outputs": []
    },
    {
      "cell_type": "markdown",
      "source": [
        "EMPTY"
      ],
      "metadata": {
        "id": "ZlH1Jn0wi7S2"
      }
    },
    {
      "cell_type": "code",
      "source": [
        "#Encontramos todas las correlaciones entre las variables\n",
        "Corr_FactorsSR = dfsr.corr()\n",
        "Corr_Factors1SR = Corr_FactorsSR.round(2)\n",
        "Corr_Factors1SR"
      ],
      "metadata": {
        "id": "GJ3l3SiIi9Ox"
      },
      "execution_count": null,
      "outputs": []
    },
    {
      "cell_type": "code",
      "source": [
        "#Encontramos el valor absoluto de todas las correlaciones entre las variables\n",
        "Corr_Factors2SR = abs(Corr_Factors1SR)\n",
        "Corr_Factors2SR"
      ],
      "metadata": {
        "id": "librxA4YjAYj"
      },
      "execution_count": null,
      "outputs": []
    },
    {
      "cell_type": "code",
      "source": [
        "# Ajustar el tamaño de la figura\n",
        "plt.figure(figsize=(20, 18))  # Puedes ajustar el tamaño (ancho, alto) según tus preferencias\n",
        "\n",
        "# Crear el mapa de calor\n",
        "Heat_MapSR = sns.heatmap(Corr_Factors2SR, cmap='YlGnBu', annot=True, fmt=\".2f\")\n",
        "\n",
        "# Mostrar la gráfica\n",
        "plt.show()"
      ],
      "metadata": {
        "id": "TrvbvxstjCCw"
      },
      "execution_count": null,
      "outputs": []
    },
    {
      "cell_type": "code",
      "source": [
        "from sklearn.linear_model import LinearRegression\n",
        "\n",
        "Vars_Indep= dfsr[['host_acceptance_rate']]\n",
        "Var_Dep= dfsr['number_of_reviews']\n",
        "\n",
        "modelPR = LinearRegression()\n",
        "\n",
        "modelPR.fit(X=Vars_Indep, y=Var_Dep)\n",
        "\n",
        "modelPR.__dict__"
      ],
      "metadata": {
        "id": "54r1Ste9jIh4"
      },
      "execution_count": null,
      "outputs": []
    },
    {
      "cell_type": "code",
      "source": [
        "y_pred= modelPR.predict(X=dfsr[['host_acceptance_rate']])\n",
        "y_pred"
      ],
      "metadata": {
        "id": "F6axPZQujMD7"
      },
      "execution_count": null,
      "outputs": []
    },
    {
      "cell_type": "code",
      "source": [
        "dfsr.insert(0, 'Predicciones', y_pred)\n",
        "dfsr"
      ],
      "metadata": {
        "id": "EV--ojzPjO52"
      },
      "execution_count": null,
      "outputs": []
    },
    {
      "cell_type": "code",
      "source": [
        "sns.scatterplot(x='number_of_reviews', y='host_acceptance_rate', color=\"red\", data=dfsr)"
      ],
      "metadata": {
        "id": "YSbsvsUojUM5"
      },
      "execution_count": null,
      "outputs": []
    },
    {
      "cell_type": "code",
      "source": [
        "sns.scatterplot(x='number_of_reviews', y='host_acceptance_rate', color=\"blue\", data=dfsr)\n",
        "sns.scatterplot(x='number_of_reviews', y='Predicciones', color=\"red\", data=dfsr)\n",
        "sns.lineplot(x='number_of_reviews', y='Predicciones', color=\"red\", data=dfsr)"
      ],
      "metadata": {
        "id": "YCJDAooEjVe8"
      },
      "execution_count": null,
      "outputs": []
    },
    {
      "cell_type": "code",
      "source": [
        "#Encontramos todas las correlaciones entre las variables\n",
        "Corr_FactorsPR = dfpr.corr()\n",
        "Corr_Factors1PR = Corr_FactorsPR.round(2)\n",
        "Corr_Factors1PR"
      ],
      "metadata": {
        "id": "jehalenujYvw"
      },
      "execution_count": null,
      "outputs": []
    },
    {
      "cell_type": "code",
      "source": [
        "#Encontramos el valor absoluto de todas las correlaciones entre las variables\n",
        "Corr_Factors2PR = abs(Corr_Factors1PR)\n",
        "Corr_Factors2PR"
      ],
      "metadata": {
        "id": "qqZZjtTjjgxZ"
      },
      "execution_count": null,
      "outputs": []
    },
    {
      "cell_type": "code",
      "source": [
        "# Ajustar el tamaño de la figura\n",
        "plt.figure(figsize=(20, 18))  # Puedes ajustar el tamaño (ancho, alto) según tus preferencias\n",
        "\n",
        "# Crear el mapa de calor\n",
        "Heat_MapPR = sns.heatmap(Corr_Factors2PR, cmap='YlGnBu', annot=True, fmt=\".2f\")\n",
        "\n",
        "# Mostrar la gráfica\n",
        "plt.show()"
      ],
      "metadata": {
        "id": "84PcaYERjkHn"
      },
      "execution_count": null,
      "outputs": []
    },
    {
      "cell_type": "code",
      "source": [
        "from sklearn.linear_model import LinearRegression\n",
        "\n",
        "Vars_Indep= dfsr[['reviews_per_month']]\n",
        "Var_Dep= dfsr['number_of_reviews']\n",
        "\n",
        "modelPR = LinearRegression()\n",
        "\n",
        "modelPR.fit(X=Vars_Indep, y=Var_Dep)\n",
        "\n",
        "modelPR.__dict__"
      ],
      "metadata": {
        "id": "k_N-V9QYj1Z0"
      },
      "execution_count": null,
      "outputs": []
    },
    {
      "cell_type": "code",
      "source": [
        "y_pred= modelPR.predict(X=dfpr[['reviews_per_month']])\n",
        "y_pred"
      ],
      "metadata": {
        "id": "OVicwJsPj47U"
      },
      "execution_count": null,
      "outputs": []
    },
    {
      "cell_type": "code",
      "source": [
        "dfpr.insert(0, 'Predicciones', y_pred)\n",
        "dfpr"
      ],
      "metadata": {
        "id": "G0D9Z5eLj7gy"
      },
      "execution_count": null,
      "outputs": []
    },
    {
      "cell_type": "code",
      "source": [
        "sns.scatterplot(x='number_of_reviews', y='reviews_per_month', color=\"red\", data=dfpr)"
      ],
      "metadata": {
        "id": "wTAESJTJj9xj"
      },
      "execution_count": null,
      "outputs": []
    },
    {
      "cell_type": "code",
      "source": [
        "sns.scatterplot(x='number_of_reviews', y='reviews_per_month', color=\"blue\", data=dfpr)\n",
        "sns.scatterplot(x='number_of_reviews', y='Predicciones', color=\"red\", data=dfpr)\n",
        "sns.lineplot(x='number_of_reviews', y='Predicciones', color=\"red\", data=dfpr)"
      ],
      "metadata": {
        "id": "758za0OlkDQc"
      },
      "execution_count": null,
      "outputs": []
    },
    {
      "cell_type": "code",
      "source": [
        "datos = {\n",
        "    'coef y corr shared room': ['coef_Deter', 'coef_corr', 'coef_Deter2','coef_corr2', 'coef_Deter3', 'coef_corr3', 'coef_Deter4', 'coef_corr4', 'coef_Deter5', 'coef_corr5', 'coef_Deter6', 'coef_corr6'],\n",
        "    'coeficiente': [cd01, cc01, cd02, cc02,cd03, cc03, cd04, cc04, cd05, cc05, cd06, cc06]\n",
        "}\n",
        "dff = pd.DataFrame(datos)\n",
        "dff"
      ],
      "metadata": {
        "id": "vkt5GMH5kGKZ"
      },
      "execution_count": null,
      "outputs": []
    },
    {
      "cell_type": "code",
      "source": [
        "datos = {\n",
        "    'coef y corr private room': ['coef_Deter', 'coef_corr', 'coef_Deter2','coef_corr2', 'coef_Deter3', 'coef_corr3', 'coef_Deter4', 'coef_corr4', 'coef_Deter5', 'coef_corr5', 'coef_Deter6', 'coef_corr6'],\n",
        "    'coeficiente': [cd07, cc07, cd08, cc08,cd09, cc09, cd10, cc10, cd11, cc11, cd12, cc12]\n",
        "}\n",
        "dff = pd.DataFrame(datos)\n",
        "dff"
      ],
      "metadata": {
        "id": "muXAFbPFkHRd"
      },
      "execution_count": null,
      "outputs": []
    },
    {
      "cell_type": "code",
      "source": [
        "%%shell\n",
        "jupyter nbconvert --to html /content/Untitled3.ipynb"
      ],
      "metadata": {
        "colab": {
          "base_uri": "https://localhost:8080/"
        },
        "id": "amwsNPLOp9yX",
        "outputId": "e81d21a0-f7ad-4648-e349-a34ddf54525d"
      },
      "execution_count": 151,
      "outputs": [
        {
          "output_type": "stream",
          "name": "stdout",
          "text": [
            "[NbConvertApp] Converting notebook /content/Untitled3.ipynb to html\n",
            "[NbConvertApp] Writing 786573 bytes to /content/Untitled3.html\n"
          ]
        },
        {
          "output_type": "execute_result",
          "data": {
            "text/plain": []
          },
          "metadata": {},
          "execution_count": 151
        }
      ]
    }
  ]
}